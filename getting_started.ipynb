{
 "cells": [
  {
   "cell_type": "markdown",
   "id": "8671f452",
   "metadata": {},
   "source": [
    "# Welcome to Amazon SageMaker Unified Studio Notebooks\n",
    "\n",
    "1. [Welcome](#Welcome-to-SageMaker-Unified-Studio-Notebooks)\n",
    "1. [Using SageMaker Projects With Python](#Using-SageMaker-Projects-With-Python)\n",
    "1. [Python and Artificial Intelligene](#Running-Python-and-Artificial-Intelligence)\n",
    "1. [Apache Spark on AWS Glue and Amazon EMR](#Apache-Spark-with-AWS-Glue-and-Amazon-EMR)\n",
    "    1. [Configuring Spark](#Configuring-Spark)\n",
    "    1. [Running Spark](#Running-Spark)\n",
    "    1. [PySpark and ScalaSpark](#PySpark,-ScalaSpark)\n",
    "    1. [SparkSQL](#SparkSQL)\n",
    "1. [SQL: Athena, Redshift and Spark](#SQL:-Athena,-Redshift-and-Spark)\n",
    "1. [Data Visualization](#Data-Visualization)\n",
    "1. [Adding Libraries](#Adding-Libraries)\n",
    "1. [Amazon Q](#Amazon-Q-chat-assistant)\n",
    "\n",
    "Welcome to Amazon SageMaker’s new multi-service, poly-compute notebook, designed to enable end-to-end development in a single notebook. In an Amazon SageMaker Unified Studio notebook, you can select the language and framework for each cell based on the compute options (connections) configured in your project. You can add or modify these compute connections from the Project's compute management screen.  The compute choices differ based on your project’s profile. However, all default profiles come with: Local Python, Serverless Spark powered by AWS Glue and Trino with Amazon Athena.\n"
   ]
  },
  {
   "cell_type": "markdown",
   "id": "9b99b2f7",
   "metadata": {},
   "source": [
    "## Using Amazon SageMaker Projects With Python\n",
    "\n",
    "Amazon SageMaker Unified Studio organizes your work into projects. Projects are a logical boundary of users, resources and tools required to solve a particular business problem. Projects enable you to focus on the things you’re working on and not worry about infrastructure, compute, storage locations. The `sagemaker_studio` python library is designed to help facilitate this abstraction. The base abstraction is `Project`. You can inspect a project object (with tab in JupyterLab) to see all the things you can do underneath it. \n",
    "\n",
    "To use the project library, initialize it by running the following cell."
   ]
  },
  {
   "cell_type": "code",
   "execution_count": null,
   "id": "cd2c021c",
   "metadata": {},
   "outputs": [],
   "source": [
    "from sagemaker_studio import Project\n",
    "\n",
    "project = Project()"
   ]
  },
  {
   "cell_type": "markdown",
   "id": "a254509c",
   "metadata": {},
   "source": [
    "`Project` contains many methods and dataclasses that enable discovery of key project abstractions such as:\n",
    "```\n",
    "project.iam_role\n",
    "project.kms_key_arm\n",
    "project.s3.root\n",
    "```\n",
    "\n",
    "Most modules, such as `Project` and `Connection`, have a singluar and a plural. The singular `project.connection()` is a method that contains information about any compute and data connections your project has access to. The plural `project.connections` is a list and can be called to see all of the connections your project has access to. Many of these contain JDBC strings, credential information and other parameters required to use them in Amazon SageMaker, Amazon EMR or AWS Glue. \n",
    "\n",
    "For a full list of the capabilities, refer to the documentation. "
   ]
  },
  {
   "cell_type": "code",
   "execution_count": null,
   "id": "3f6aa1ba",
   "metadata": {},
   "outputs": [],
   "source": [
    "# A good example of the Project class is getting the name of the project's database, \n",
    "# through the default catalog\n",
    "\n",
    "catalog = project.connection().catalog()\n",
    "project_database = catalog.databases[0].name\n",
    "project_database"
   ]
  },
  {
   "cell_type": "markdown",
   "id": "ecd53632",
   "metadata": {},
   "source": [
    "---\n",
    "\n",
    "## Running Python and Artificial Intelligence\n",
    "\n",
    "Local Python executes Python directly on the Jupyter Notebook instance (referred to as 'space') and is configured to run single-machine Python and has many libraries installed for developing analytics, artificial intelligence, or connecting to remote compute for larger workloads. This will be instantly familiar to all existing Amazon SageMaker AI (previously known as Amazon SageMaker) users. \n",
    " \n",
    "Other Amazon SageMaker AI visual authoring tools, such as JumpStart and ML-Flow, can be accessed from the Build menu at the top of your screen.\n",
    "\n",
    "                                                                                     \n",
    "Run the following cell to execute local Python."
   ]
  },
  {
   "cell_type": "code",
   "execution_count": null,
   "id": "b64d0439",
   "metadata": {},
   "outputs": [],
   "source": [
    "# Run me to use SageMaker and perform Machine Learning or single-instance Python\n",
    "import pandas as pd\n",
    "\n",
    "df = pd.DataFrame({'name': ['Alice', 'Bob', 'Charlie'], 'age': [25, 30, 35], 'department': ['HR', 'IT', 'Finance']})\n",
    "df"
   ]
  },
  {
   "cell_type": "markdown",
   "id": "afc9718f",
   "metadata": {},
   "source": [
    "---\n",
    "## Apache Spark with AWS Glue and Amazon EMR\n",
    "\n",
    "Amazon SageMaker Data Processing enables connectivity to AWS Glue, Amazon EMR on EC2 and EMR Serverless for distributed compute with Apache Spark. \n",
    "\n",
    "To use PySpark, select it from the drop-down menu above the selected cell, or type the  `%%pyspark` cell magic into the first line of your cell. By default PySpark will use the `project.spark` connection, which in managed project profiles, points to AWS Glue and executes with the project’s credentials. The first cell you run with PySpark will create a session and provision a cluster for you. \n",
    "\n",
    "If another Spark connection is available in the project, the second menu will allow you to select it. \n"
   ]
  },
  {
   "cell_type": "markdown",
   "id": "c11ff513",
   "metadata": {},
   "source": [
    "### Configuring Spark"
   ]
  },
  {
   "cell_type": "markdown",
   "id": "35043474",
   "metadata": {},
   "source": [
    "While not required for use, the next cell will configure your Spark session to only use two small workers.  Unlike AWS Glue and Amazon EMR Notebooks, the configure magic used by Amazon SageMaker Unified Studio is run in a _local cell_ specifying the name of a connection to configure. This is done so you can configure multiple connections within a single configuration."
   ]
  },
  {
   "cell_type": "code",
   "execution_count": null,
   "id": "311f49cd",
   "metadata": {},
   "outputs": [],
   "source": [
    "%%configure --name project.spark\n",
    "{\n",
    "    \"NumberOfWorkers\": 2,\n",
    "    \"WorkerType\": \"G.1X\"\n",
    "}"
   ]
  },
  {
   "cell_type": "markdown",
   "id": "904d385b",
   "metadata": {},
   "source": [
    "The first code cell above executed pandas on local Python and created a pandas dataframe locally. To use that data in a Spark Session, we use the `%send_to_remote` magic to send `df` as a dictionary and `project_database` to variables on Spark. You can use this magic to send strings and small amounts of data in dictionaries. Using this magic will start a Spark interactive session on the declared connection if one does not already exist."
   ]
  },
  {
   "cell_type": "code",
   "execution_count": null,
   "id": "fe41dbbc",
   "metadata": {},
   "outputs": [],
   "source": [
    "%send_to_remote --name project.spark --language python --local df.to_dict() --remote people\n",
    "%send_to_remote --name project.spark --language python --local project_database --remote project_database"
   ]
  },
  {
   "cell_type": "markdown",
   "id": "0faab445",
   "metadata": {},
   "source": [
    "### Running Spark\n",
    "\n",
    "Run the following cell to create a Spark DataFrame from the dictionary we sent from local and write it out to the project's data catalog database as a sample table. This table is now available in the \"Data\" tab on the project overview page and is shared with all the other members of your project."
   ]
  },
  {
   "cell_type": "code",
   "execution_count": null,
   "id": "a9f38c81",
   "metadata": {},
   "outputs": [],
   "source": [
    "%%pyspark\n",
    "import pyspark.pandas as ps\n",
    "df = ps.DataFrame.from_dict(people).to_spark()\n",
    "df.write.saveAsTable(f\"{project_database}.sample_table\", format='parquet', mode='overwrite')\n",
    "df.show()"
   ]
  },
  {
   "cell_type": "markdown",
   "id": "a94b7786",
   "metadata": {},
   "source": [
    "### PySpark, ScalaSpark\n",
    "Spark can be run in three flavors: PySpark, ScalaSpark and SparkSQL. PySpark can be used by selecting it from the drop-down (above the cell you are trying to execute), or using `%%pyspark` or `%%spark` cell magics. ScalaSpark can be used by selecting it from the drop-down or with the `%%scalaspark` magic. "
   ]
  },
  {
   "cell_type": "markdown",
   "id": "14425c49",
   "metadata": {},
   "source": [
    "### SparkSQL\n",
    "\n",
    "SparkSQL can be run by choosing SQL from the first drop-down and project.spark from the Connections drop-down, or by running `%%sql` project.spark (or another spark connection name) as your cell magic. Results from SQL cells are available as DataFrames for other PySpark cells with the `_` variable. \n"
   ]
  },
  {
   "cell_type": "code",
   "execution_count": null,
   "id": "18d3b9fa",
   "metadata": {},
   "outputs": [],
   "source": [
    "%%pyspark project.spark\n",
    "spark.sql(f'use {project_database}')  # Set the database for SparkSQL cells"
   ]
  },
  {
   "cell_type": "code",
   "execution_count": null,
   "id": "7e1a8e1f",
   "metadata": {},
   "outputs": [],
   "source": [
    "%%sql project.spark\n",
    "SELECT \n",
    "    name, \n",
    "    age + 1 as corrected_age, \n",
    "    department \n",
    "FROM sample_table"
   ]
  },
  {
   "cell_type": "code",
   "execution_count": null,
   "id": "17b9cd8f-cf28-4280-a047-e82485a1e41c",
   "metadata": {},
   "outputs": [],
   "source": [
    "%%pyspark project.spark\n",
    "# You can use the DataFrame created by the previous query with _\n",
    "_.printSchema()"
   ]
  },
  {
   "cell_type": "markdown",
   "id": "68871c4e",
   "metadata": {},
   "source": [
    "## SQL: Athena, Redshift and Spark\n",
    "SQL is run by selecting SQL from the language menu above any cell or using the cell magic `%%sql` in the first line. Most project profiles default to Athena Trino for SQL, but some default to Redshift-Serverless. Selecting a different connection or typing `%%sql connection_name` in the first line of the cell will execute against a different compute. \n",
    "\n",
    "Results of SQL queries run with Athena, Redshift, or Redshift Serverless can be used in a subsequent Local Python cell as a pandas dataframe by calling `_.to_pandas()`.\n",
    "\n",
    "Results of SparkSQL queries can be reused in following PySpark cells as Spark DataFrames by calling `_`."
   ]
  },
  {
   "cell_type": "code",
   "execution_count": null,
   "id": "a9b0ddb2",
   "metadata": {},
   "outputs": [],
   "source": [
    "%%sql project.athena\n",
    "show databases"
   ]
  },
  {
   "cell_type": "markdown",
   "id": "dcce7244",
   "metadata": {},
   "source": [
    "### Redshift\n",
    "\n",
    "If you have a Redshift connection in your project, you can access it with SQL by selecting it from the connections drop-down when SQL is the selected language."
   ]
  },
  {
   "cell_type": "code",
   "execution_count": null,
   "id": "8ae69ceb",
   "metadata": {},
   "outputs": [],
   "source": [
    "%%sql project.redshift\n",
    "SELECT database_name, schema_name, table_name, table_type \n",
    "FROM svv_all_tables"
   ]
  },
  {
   "cell_type": "markdown",
   "id": "ac2b52b5",
   "metadata": {},
   "source": [
    "### Using Redshift with Spark\n",
    "\n",
    "Redshift connectivity from Spark is handled by the community Spark Connector for Redshift and is best suited for moving large amounts of data between Redshift and Spark for use with PySpark or pandas.\n",
    "\n",
    "To write a Spark dataframe to Redshift, run the following:"
   ]
  },
  {
   "cell_type": "code",
   "execution_count": null,
   "id": "57c3fce6",
   "metadata": {},
   "outputs": [],
   "source": [
    "%%pyspark project.spark\n",
    "\n",
    "# Notice we can use the sagemaker_studio in Spark also. It knows which project we are in.\n",
    "from sagemaker_studio import Project\n",
    "project = Project()\n",
    "\n",
    "redshift_conn = project.connection('redshift')\n",
    "rs_endpoint = redshift_conn.physical_endpoints[0]\n",
    "rs_table_name = \"sample_notebook_data\"\n",
    "\n",
    "(\n",
    "    df.write.format(\"io.github.spark_redshift_community.spark.redshift\")\n",
    "    .option(\"url\", f\"jdbc:redshift:iam://{rs_endpoint.host}:{rs_endpoint.port}/dev\")\n",
    "    .option(\"dbtable\", rs_table_name)\n",
    "    .option(\"tempdir\", f\"{project.s3.root}/temp/redshfit/\")\n",
    "    .option(\"forward_spark_s3_credentials\", 'true')\n",
    "    .mode(\"overwrite\")\n",
    "    .save()\n",
    ")"
   ]
  },
  {
   "cell_type": "markdown",
   "id": "ba39fedf",
   "metadata": {},
   "source": [
    "To read Redshift from Spark, we use the same library."
   ]
  },
  {
   "cell_type": "code",
   "execution_count": null,
   "id": "504b606c",
   "metadata": {},
   "outputs": [],
   "source": [
    "%%pyspark project.spark\n",
    "rs_read_df = (\n",
    "    spark.read.format(\"io.github.spark_redshift_community.spark.redshift\")\n",
    "    .option(\"url\", f\"jdbc:redshift:iam://{rs_endpoint.host}:{rs_endpoint.port}/dev\")\n",
    "    .option(\"dbtable\", rs_table_name)\n",
    "    .option(\"tempdir\", f\"{project.s3.root}/temp/redshfit/\")\n",
    "    .option(\"forward_spark_s3_credentials\", 'true')\n",
    "    .option(\"unload_s3_format\", \"PARQUET\")\n",
    "    .load()\n",
    ")\n",
    "rs_read_df.show(5)"
   ]
  },
  {
   "cell_type": "markdown",
   "id": "8c1db077",
   "metadata": {},
   "source": [
    "## Data Visualization"
   ]
  },
  {
   "cell_type": "markdown",
   "id": "5651b2c7",
   "metadata": {},
   "source": [
    "To view DataFrames in Spark or pandas, users typically have had to call `df.show()` or `df.head()` respectively. Amazon SageMaker Unified Studio notebooks will visually display any dataframe declared as the last line of a cell. Typing the name of a DataFrame as your last line will output a rich table, statistics, and visualizations. You can also call the `%display` line magic at any point in your cell to manually invoke the rich display. Plotting can also be enhanced with `pygwalker`, `dataprep`, or `ydata` if installed to Local Python."
   ]
  },
  {
   "cell_type": "code",
   "execution_count": null,
   "id": "3f5dc328",
   "metadata": {},
   "outputs": [],
   "source": [
    "%display df"
   ]
  },
  {
   "cell_type": "code",
   "execution_count": null,
   "id": "8a502e7c",
   "metadata": {},
   "outputs": [],
   "source": [
    "%%pyspark project.spark\n",
    "_"
   ]
  },
  {
   "attachments": {
    "908f55be-4dd1-4ecd-9a02-a416edd19702.png": {
     "image/png": "[encoded data removed]"
    }
   },
   "cell_type": "markdown",
   "id": "99707fb6-788f-4b60-b3c3-1e04f3f571b4",
   "metadata": {},
   "source": [
    "## Adding Libraries\n",
    "\n",
    "### Adding Libraries to Spark\n",
    "\n",
    "Libraries are managed by the project and can be configured by selecting the library icon in the JupyterLab toolbar.\n",
    "\n",
    "![image.png](attachment:908f55be-4dd1-4ecd-9a02-a416edd19702.png)\n",
    "\n",
    "Libraries can be configured from various sources for each of your compute platforms (local Amazon SageMaker, AWS Glue, Amazon EMR etc). Library sources include PyPi, Conda, Maven, S3 and local. Compatibility is dependent on the compute selected. Refer to the library settings screen and documentation for more details. \n"
   ]
  },
  {
   "attachments": {
    "4d67c884-1b69-4445-854f-0a070351c5a0.png": {
     "image/png": "[encoded data removed]"
    },
    "dce0cc02-b241-400d-827d-01ff3421eeaa.png": {
     "image/png": "[encoded data removed]"
    }
   },
   "cell_type": "markdown",
   "id": "16c2dd7e-2926-46f2-8a07-6aaa9aa71513",
   "metadata": {},
   "source": [
    "## Amazon Q chat assistant\n",
    "\n",
    "Amazon Q (Free Tier) is enabled by default in Amazon SageMaker Unified Studio and can be accessed in a few ways. \n",
    "\n",
    "### Code Completion\n",
    "Amazon Q can be enabled for code completion by selecting the Amazon Q menu at the bottom status bar of this screen. \n",
    "Q can assist with Python, PySpark, and all supported SQL.\n",
    "\n",
    "![image.png](attachment:4d67c884-1b69-4445-854f-0a070351c5a0.png)\n",
    "\n",
    "\n",
    "### Q chat\n",
    "Q chat is available from the chat icon on the left side of your screen. \n",
    "\n",
    "![image.png](attachment:dce0cc02-b241-400d-827d-01ff3421eeaa.png)\n",
    "\n",
    "Q can assist with your code, project, data and resource questions. \n",
    "\n",
    "Feel free to ask Q about what it can do."
   ]
  }
 ],
 "metadata": {
  "kernelspec": {
   "display_name": "Python 3 (ipykernel)",
   "language": "python",
   "name": "python3"
  },
  "language_info": {
   "codemirror_mode": {
    "name": "ipython",
    "version": 3
   },
   "file_extension": ".py",
   "mimetype": "text/x-python",
   "name": "python",
   "nbconvert_exporter": "python",
   "pygments_lexer": "ipython3",
   "version": "3.11.10"
  }
 },
 "nbformat": 4,
 "nbformat_minor": 5
}
